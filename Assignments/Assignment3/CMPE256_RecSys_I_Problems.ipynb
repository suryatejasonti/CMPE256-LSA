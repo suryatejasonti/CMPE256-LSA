{
 "cells": [
  {
   "cell_type": "markdown",
   "metadata": {},
   "source": [
    "## (40%) Collaboraitve Filtering Movie Recommendation"
   ]
  },
  {
   "cell_type": "code",
   "execution_count": 4,
   "metadata": {},
   "outputs": [],
   "source": [
    "#A Dictionary of movie critics and their ratings of a small set of movies\n",
    "critics={'Lisa Rose': {'Lady in the Water': 2.5, 'Snakes on a Plane': 3.5,\n",
    " 'Just My Luck': 3.0, 'Superman Returns': 3.5, 'You, Me and Dupree': 2.5,\n",
    " 'The Night Listener': 3.0},\n",
    "'Gene Seymour': {'Lady in the Water': 3.0, 'Snakes on a Plane': 3.5,\n",
    " 'Just My Luck': 1.5, 'Superman Returns': 5.0, 'The Night Listener': 3.0,\n",
    " 'You, Me and Dupree': 3.5},\n",
    "'Michael Phillips': {'Lady in the Water': 2.5, 'Snakes on a Plane': 3.0,\n",
    " 'Superman Returns': 3.5, 'The Night Listener': 4.0},\n",
    "'Claudia Puig': {'Snakes on a Plane': 3.5, 'Just My Luck': 3.0,\n",
    " 'The Night Listener': 4.5, 'Superman Returns': 4.0,\n",
    " 'You, Me and Dupree': 2.5},\n",
    "'Mick LaSalle': {'Lady in the Water': 3.0, 'Snakes on a Plane': 4.0,\n",
    " 'Just My Luck': 2.0, 'Superman Returns': 3.0, 'The Night Listener': 3.0,\n",
    " 'You, Me and Dupree': 2.0},\n",
    "'Jack Matthews': {'Lady in the Water': 3.0, 'Snakes on a Plane': 4.0,\n",
    " 'The Night Listener': 3.0, 'Superman Returns': 5.0, 'You, Me and Dupree': 3.5},\n",
    "'Toby': {'Snakes on a Plane':4.5,'You, Me and Dupree':1.0,'Superman Returns':4.0}}"
   ]
  },
  {
   "cell_type": "markdown",
   "metadata": {},
   "source": [
    "### Suppose we are given a data set above of each customrs' rating to each movie with sacle 0-5. Stored as python dictinary format. Can you write a function with inputs of rating data and two persons, return their similarity measured by Pearson correlation. You may define and implment other similarity measure also. (10%). "
   ]
  },
  {
   "cell_type": "markdown",
   "metadata": {},
   "source": [
    "#### Solutions"
   ]
  },
  {
   "cell_type": "code",
   "execution_count": 25,
   "metadata": {},
   "outputs": [],
   "source": [
    "from math import sqrt\n",
    "\n",
    "def sim_pearson(prefs, p1, p2):\n",
    "    #Returns the Pearson correlation coefficient for p1 and p2.\n",
    "    # Get the list of mutually rated items\n",
    "    si = {}\n",
    "    for item in prefs[p1]:\n",
    "        if item in prefs[p2]:\n",
    "            si[item] = 1\n",
    "    # If they are no ratings in common, return 0\n",
    "    if len(si) == 0:\n",
    "        return 0\n",
    "    # Sum calculations\n",
    "    n = len(si)\n",
    "    # Sums of all the preferences\n",
    "    sum1 = sum([prefs[p1][it] for it in si])\n",
    "    sum2 = sum([prefs[p2][it] for it in si])\n",
    "    # Sums of the squares\n",
    "    sum1Sq = sum([pow(prefs[p1][it], 2) for it in si])\n",
    "    sum2Sq = sum([pow(prefs[p2][it], 2) for it in si])\n",
    "    # Sum of the products\n",
    "    pSum = sum([prefs[p1][it] * prefs[p2][it] for it in si])\n",
    "    # Calculate r (Pearson score)\n",
    "    num = pSum - sum1 * sum2 / n\n",
    "    den = sqrt((sum1Sq - pow(sum1, 2) / n) * (sum2Sq - pow(sum2, 2) / n))\n",
    "    if den == 0:\n",
    "        return 0\n",
    "    r = num / den\n",
    "    return r\n",
    "\n",
    "def sim_cosine(prefs, p1,p2):\n",
    "    #compute cosine similarity of v1 to v2: (v1 dot v2)/{||v1||*||v2||)\n",
    "    # Get the list of mutually rated items\n",
    "    si = {}\n",
    "    for item in prefs[p1]:\n",
    "        if item in prefs[p2]:\n",
    "            si[item] = 1\n",
    "    # If they are no ratings in common, return 0\n",
    "    if len(si) == 0:\n",
    "        return 0\n",
    "    # Sums of the squares\n",
    "    sum1Sq = sum([pow(prefs[p1][it], 2) for it in si])\n",
    "    sum2Sq = sum([pow(prefs[p2][it], 2) for it in si])\n",
    "    sum12Sq = sum([prefs[p1][it]*prefs[p2][it] for it in si])\n",
    "\n",
    "    return sum12Sq/sqrt(sum1Sq*sum2Sq)"
   ]
  },
  {
   "cell_type": "code",
   "execution_count": 26,
   "metadata": {},
   "outputs": [
    {
     "name": "stdout",
     "output_type": "stream",
     "text": [
      "0.21128856368212925\n",
      "0.9677131970029148\n"
     ]
    }
   ],
   "source": [
    "print (sim_pearson(critics, \"Jack Matthews\", \"Mick LaSalle\"))\n",
    "print (sim_cosine(critics, \"Jack Matthews\", \"Mick LaSalle\"))"
   ]
  },
  {
   "cell_type": "markdown",
   "metadata": {},
   "source": [
    "### Given a person, say A, could you write a function to return top n persons most similar to A (exclude A) (5%)? \n",
    "### Same dataset as above."
   ]
  },
  {
   "cell_type": "markdown",
   "metadata": {},
   "source": [
    "#### Solutions"
   ]
  },
  {
   "cell_type": "code",
   "execution_count": 72,
   "metadata": {},
   "outputs": [],
   "source": [
    "def top_similar_items(prefs, item, n):\n",
    "    '''\n",
    "    To print top similar persons who viewed movies of p interest\n",
    "    '''\n",
    "    allpersons = []\n",
    "    for otherperson in prefs:\n",
    "        if otherperson != item:\n",
    "            r = sim_pearson(prefs, item, otherperson)\n",
    "            allpersons.append((r, otherperson))\n",
    "    allpersons.sort(reverse=True)\n",
    "    return allpersons[0:n]"
   ]
  },
  {
   "cell_type": "code",
   "execution_count": 73,
   "metadata": {},
   "outputs": [
    {
     "name": "stdout",
     "output_type": "stream",
     "text": [
      "(0.963795681875635, 'Jack Matthews')\n",
      "(0.41176470588235276, 'Mick LaSalle')\n",
      "(0.39605901719066977, 'Lisa Rose')\n",
      "(0.38124642583151164, 'Toby')\n",
      "(0.31497039417435607, 'Claudia Puig')\n"
     ]
    }
   ],
   "source": [
    "lst = top_similar_items(critics,\"Gene Seymour\",5)\n",
    "for person in lst:\n",
    "    print(person)"
   ]
  },
  {
   "cell_type": "markdown",
   "metadata": {},
   "source": [
    "### Given a person, say A, could you write a function to recommend those unseen movies? (10%)"
   ]
  },
  {
   "cell_type": "markdown",
   "metadata": {},
   "source": [
    "#### Solutions"
   ]
  },
  {
   "cell_type": "code",
   "execution_count": 58,
   "metadata": {},
   "outputs": [],
   "source": [
    "def getRecommendations(prefs, person, similarity=sim_pearson):\n",
    "    '''\n",
    "    Gets recommendations for a person by using a weighted average\n",
    "    of every other user's rankings\n",
    "    '''\n",
    "\n",
    "    totals = {}\n",
    "    simSums = {}\n",
    "    for other in prefs:\n",
    "    # Don't compare me to myself\n",
    "        if other == person:\n",
    "            continue\n",
    "        sim = similarity(prefs, person, other)\n",
    "        # Ignore scores of zero or lower\n",
    "        if sim <= 0:\n",
    "            continue\n",
    "        for item in prefs[other]:\n",
    "            # Only score movies I haven't seen yet\n",
    "            if item not in prefs[person] or prefs[person][item] == 0:\n",
    "                # Similarity * Score\n",
    "                totals.setdefault(item, 0)\n",
    "                # The final score is calculated by multiplying each item by the\n",
    "                #   similarity and adding these products together\n",
    "                totals[item] += prefs[other][item] * sim\n",
    "                # Sum of similarities\n",
    "                simSums.setdefault(item, 0)\n",
    "                simSums[item] += sim\n",
    "    # Create the normalized list\n",
    "    rankings = [(total / simSums[item], item) for (item, total) in\n",
    "                totals.items()]\n",
    "    # Return the sorted list\n",
    "    rankings.sort()\n",
    "    rankings.reverse()\n",
    "    return rankings"
   ]
  },
  {
   "cell_type": "code",
   "execution_count": 59,
   "metadata": {},
   "outputs": [
    {
     "name": "stdout",
     "output_type": "stream",
     "text": [
      "[(3.3477895267131017, 'The Night Listener'), (2.8325499182641614, 'Lady in the Water'), (2.530980703765565, 'Just My Luck')]\n"
     ]
    }
   ],
   "source": [
    "print(getRecommendations(critics, \"Toby\"))"
   ]
  },
  {
   "cell_type": "markdown",
   "metadata": {},
   "source": [
    "### Let's using another approach, can you write a function to return top n most similair movies for a given movie? (5%) "
   ]
  },
  {
   "cell_type": "markdown",
   "metadata": {},
   "source": [
    "#### Solutions"
   ]
  },
  {
   "cell_type": "code",
   "execution_count": 77,
   "metadata": {},
   "outputs": [],
   "source": [
    "def transformPrefs(prefs):\n",
    "    '''\n",
    "    Transform the recommendations into a mapping where persons are described\n",
    "    with interest scores for a given title e.g. {title: person} instead of\n",
    "    {person: title}.\n",
    "    '''\n",
    "\n",
    "    result = {}\n",
    "    for person in prefs:\n",
    "        for item in prefs[person]:\n",
    "            result.setdefault(item, {})\n",
    "            # Flip item and person\n",
    "            result[item][person] = prefs[person][item]\n",
    "    return result"
   ]
  },
  {
   "cell_type": "code",
   "execution_count": 78,
   "metadata": {},
   "outputs": [
    {
     "name": "stdout",
     "output_type": "stream",
     "text": [
      "(0.6579516949597695, 'You, Me and Dupree')\n",
      "(0.4879500364742689, 'Lady in the Water')\n",
      "(0.11180339887498941, 'Snakes on a Plane')\n",
      "(-0.1798471947990544, 'The Night Listener')\n",
      "(-0.42289003161103106, 'Just My Luck')\n"
     ]
    }
   ],
   "source": [
    "transcritics = transformPrefs(critics)\n",
    "lst = top_similar_items(transcritics,\"Superman Returns\",5)\n",
    "for movie in lst:\n",
    "    print(movie)"
   ]
  },
  {
   "cell_type": "markdown",
   "metadata": {},
   "source": [
    "### Given a movie, say B, could you write a function to recommend those peoples who have not seen this movies but they may rank this movie with high score? For example, who are those two persons who will rate \"Just My Luck\" high but they never seen this movie before? (10%)"
   ]
  },
  {
   "cell_type": "markdown",
   "metadata": {},
   "source": [
    "#### Solutions"
   ]
  },
  {
   "cell_type": "code",
   "execution_count": 79,
   "metadata": {},
   "outputs": [
    {
     "name": "stdout",
     "output_type": "stream",
     "text": [
      "(4.0, 'Michael Phillips')\n",
      "(3.0, 'Jack Matthews')\n"
     ]
    }
   ],
   "source": [
    "persons = getRecommendations(transcritics, 'Just My Luck')\n",
    "for p in persons:\n",
    "    print(p)"
   ]
  },
  {
   "cell_type": "markdown",
   "metadata": {},
   "source": [
    "### (20%) Data Preparation"
   ]
  },
  {
   "cell_type": "markdown",
   "metadata": {},
   "source": [
    "### 1. Data quality can be assessed in terms of accuracy, completeness, and consistency. What other factors are also important to data quality (5%)? "
   ]
  },
  {
   "cell_type": "markdown",
   "metadata": {},
   "source": [
    "#### Solutions\n"
   ]
  },
  {
   "cell_type": "code",
   "execution_count": 12,
   "metadata": {},
   "outputs": [
    {
     "data": {
      "text/plain": [
       "'\\nValidity\\nTimeliness\\n'"
      ]
     },
     "execution_count": 12,
     "metadata": {},
     "output_type": "execute_result"
    }
   ],
   "source": [
    "'''\n",
    "Validity\n",
    "Timeliness\n",
    "'''"
   ]
  },
  {
   "cell_type": "markdown",
   "metadata": {},
   "source": [
    "### 2.  Suppose that the data for analysis includes the attribute age. The age values for the data tuples are (in increasing order) 13, 15, 16, 16, 19, 20, 20, 21, 22, 22, 25, 25, 25, 25, 30, 33, 33, 35, 35, 35, 35, 36, 40, 45, 46, 52, 70  (10%).\n",
    "\n",
    "(a) What is the mean of the data? What is the median?\n",
    "\n",
    "(b) What is the mode of the data? Comment on the data's modality (i.e., bimodal, trimodal, etc.).\n",
    "\n",
    "(c) What is the midrange of the data?\n",
    "\n",
    "(d) Can you find (roughly) the first quartile (Q1) and the third uartile (Q3) of the data? \n",
    "\n",
    "(e) Give the five-number summary, minimum, Q1, median, Q3, maximum, of the data.\n",
    "\n",
    "(f) Show a boxplot of the data from (e).\n",
    "\n",
    "(g) How is a quantile-quantile plot different from a quantile plot? (The quantile-quantile (q-q) plot is a graphical technique for determining if two data sets come from populations with a common distribution.  A q-q plot is a plot of the quantiles of the first data set against the quantiles of the second data set.)"
   ]
  },
  {
   "cell_type": "markdown",
   "metadata": {},
   "source": [
    "#### Solution\n"
   ]
  },
  {
   "cell_type": "code",
   "execution_count": 6,
   "metadata": {},
   "outputs": [
    {
     "name": "stdout",
     "output_type": "stream",
     "text": [
      "mean: 29.962962962962962, median: 25.0\n",
      "Modality of data:     0\n",
      "0  25\n",
      "1  35\n",
      "Since there are two values, i.e., 25 & 35 it is bimodal data\n",
      "Value of midrange is 0    41.5\n",
      "dtype: float64\n",
      "Values of Q1, Median and Q3 are [20.5 25.  35. ]\n",
      "Five number summary:\n",
      "Minimum: 13, Q1: 20.5, Median: 25.0, Q3: 35.0, Maximum: 70\n"
     ]
    },
    {
     "data": {
      "image/png": "[encoded data removed]",
      "text/plain": [
       "<Figure size 432x288 with 1 Axes>"
      ]
     },
     "metadata": {
      "needs_background": "light"
     },
     "output_type": "display_data"
    }
   ],
   "source": [
    "%matplotlib inline\n",
    "\n",
    "import numpy as np\n",
    "import pandas as pd\n",
    "from matplotlib import pyplot as plt\n",
    "a = [13,15,16,16,19,20,20,21,22,22,25,25,25,25,30,33,33,35,35,35,35,36,40,45,46,52,70]\n",
    "df = pd.DataFrame(a)\n",
    "\n",
    "print(\"mean: {}, median: {}\".format(np.mean(a), np.median(a)))\n",
    "print(\"Modality of data: {}\".format(df.mode()))\n",
    "print(\"Since there are two values, i.e., 25 & 35 it is bimodal data\")\n",
    "\n",
    "def midrange(x):\n",
    "    return (np.max(x) + np.min(x))/2\n",
    "\n",
    "print(\"Value of midrange is {}\".format(midrange(df)))\n",
    "print(\"Values of Q1, Median and Q3 are {}\".format(np.percentile(df,[25, 50, 75])))\n",
    "print(\"Five number summary:\")\n",
    "print(\"Minimum: {}, Q1: {}, Median: {}, Q3: {}, Maximum: {}\".format(np.min(a), np.percentile(df,25), np.median(a), np.percentile(df,75), np.max(a)))\n",
    "data = pd.DataFrame([np.min(a), np.percentile(df,25), np.median(a), np.percentile(df,75), np.max(a)])\n",
    "plt.figure()\n",
    "_ = plt.boxplot(data)\n",
    "\n"
   ]
  },
  {
   "cell_type": "code",
   "execution_count": 2,
   "metadata": {},
   "outputs": [
    {
     "name": "stdout",
     "output_type": "stream",
     "text": [
      "\n",
      "A quantile graph or plot is like a cumulative histogram.  \n",
      "The Cumulative distribution function (CDF) is the same as the quantile graph for a function and is the term most often used by people working with statistics. \n",
      "A Q-Q or quantile-quantile graph is NOT a quantile graph, but people often get lazy and call it one since the data shown by a quantile graph is usually shown by graphing the CDF.\n",
      "\n"
     ]
    }
   ],
   "source": [
    "plt_differences = \"\"\"\n",
    "A quantile graph or plot is like a cumulative histogram.  \n",
    "The Cumulative distribution function (CDF) is the same as the quantile graph for a function and is the term most often used by people working with statistics. \n",
    "A Q-Q or quantile-quantile graph is NOT a quantile graph, but people often get lazy and call it one since the data shown by a quantile graph is usually shown by graphing the CDF.\n",
    "\"\"\"\n",
    "\n",
    "print(plt_differences)"
   ]
  },
  {
   "cell_type": "markdown",
   "metadata": {},
   "source": [
    "### 3. In practical data, tuples with missing values for some attributes are a common occurrence. Describe various methods for handling this problem (5%) ."
   ]
  },
  {
   "cell_type": "markdown",
   "metadata": {},
   "source": [
    "#### Solutions\n"
   ]
  },
  {
   "cell_type": "code",
   "execution_count": 4,
   "metadata": {},
   "outputs": [
    {
     "name": "stdout",
     "output_type": "stream",
     "text": [
      "\n",
      "\n",
      "Imputation:\n",
      "    Adding substitutional values where data is missing\n",
      "Removing Data:\n",
      "    Removing the data if there is no relation with the problem to be addressed or the presence affects the effiency of the model\n",
      "\n"
     ]
    }
   ],
   "source": [
    "methods = '''\n",
    "\n",
    "Imputation:\n",
    "    Adding substitutional values where data is missing\n",
    "Removing Data:\n",
    "    Removing the data if there is no relation with the problem to be addressed or the presence affects the effiency of the model\n",
    "'''\n",
    "print(methods)"
   ]
  },
  {
   "cell_type": "markdown",
   "metadata": {},
   "source": [
    "## (30%) How to Acquire & Refine the Data\n"
   ]
  },
  {
   "cell_type": "markdown",
   "metadata": {},
   "source": [
    "## Items, Users, Signal\n",
    "\n",
    "- **Items**: Objects to be recommended\n",
    "- **Users**: Target of the recommendation\n",
    "- **Signal**: Explicit or Implicit feedback between Items and users\n",
    "\n",
    "In our context\n",
    "- Items are **stories** posted on HN\n",
    "- Users are **users** commenting or posting stories\n",
    "- Signal are **comments** on the stories by the user signalling interest"
   ]
  },
  {
   "cell_type": "markdown",
   "metadata": {},
   "source": [
    "## Source of Data \n",
    "\n",
    "Lets see the sources for getting historical information posted on HackerNews\n",
    "\n",
    "- **HackerNews API** - YCombinator provides an official hackernew api through Firebase. This is a near real-time database and provides both an *items* (stories and comments) as well as an *users* api.  It is available at https://github.com/HackerNews/API\n",
    "\n",
    "- **BigQuery** : Google Big Query has a daily updated HackerNews public dataset available (from 2006 to date). It only has *items* information. It is available at https://bigquery.cloud.google.com/table/bigquery-public-data:hacker_news.full"
   ]
  },
  {
   "cell_type": "markdown",
   "metadata": {},
   "source": [
    "## Items (Stories) \n",
    "\n",
    "The schema for the Big Query table is\n",
    "\n",
    "| Field       | Type      | Description                           |\n",
    "|:------------|----------:|:--------------------------------------|\n",
    "| by          | STRING    | The username of the item's author.    |\n",
    "| score       | INTEGER   | Story score                           |\n",
    "| time        | INTEGER   | Unix time                             |\n",
    "| timestamp   | TIMESTAMP | Timestamp for the unix time           |\n",
    "| title       | STRING    | Story title                           |\n",
    "| type        | STRING    | Type of details (comment, story, ...) |\n",
    "| url         | STRING    | Story url                             |\n",
    "| text        | STRING    | Story or comment text                 |\n",
    "| parent      | INTEGER   | Parent comment ID                     |\n",
    "| deleted     | BOOLEAN   | Is deleted?                           |\n",
    "| dead        | BOOLEAN   | Is dead?                              |\n",
    "| descendants | INTEGER   | Number of story or poll descendants   |\n",
    "| id          | INTEGER   | The item's unique id.                 |\n",
    "| ranking     | INTEGER   | Comment ranking                       |\n",
    "\n",
    "\n",
    "- Get all the stories posted on HackerNews in **2017 (till date)**. \n",
    "- To ensure a relevant set, we will limit the stories which have atleast have **score of 5 points or more** on them. \n",
    "\n",
    "This dataset is available in `stories2017score5.gzip`"
   ]
  },
  {
   "cell_type": "markdown",
   "metadata": {},
   "source": [
    "### Could you read file stories2017score5.csv.gzip by Python pandas package and plot histogram of scores(10%) "
   ]
  },
  {
   "cell_type": "markdown",
   "metadata": {},
   "source": [
    "#### Solutions"
   ]
  },
  {
   "cell_type": "code",
   "execution_count": 2,
   "metadata": {},
   "outputs": [
    {
     "name": "stdout",
     "output_type": "stream",
     "text": [
      "Index(['by', 'score', 'time', 'timestamp', 'title', 'type', 'url', 'text',\n",
      "       'parent', 'deleted', 'dead', 'descendants', 'id', 'ranking'],\n",
      "      dtype='object')\n"
     ]
    },
    {
     "data": {
      "image/png": "[encoded data removed]",
      "text/plain": [
       "<Figure size 432x288 with 1 Axes>"
      ]
     },
     "metadata": {
      "needs_background": "light"
     },
     "output_type": "display_data"
    }
   ],
   "source": [
    "%matplotlib inline\n",
    "\n",
    "import pandas as pd\n",
    "from matplotlib import pyplot as plt\n",
    "\n",
    "df = pd.read_csv(\"stories2017score5.csv\")\n",
    "print(df.columns)\n",
    "df.fillna(-999999)\n",
    "interval = 100\n",
    "data = df['score']\n",
    "plt.hist(data, color = 'blue', edgecolor = 'black', bins = range(int(min(data)), int(max(data)) + interval, interval))\n",
    "plt.show()"
   ]
  },
  {
   "cell_type": "markdown",
   "metadata": {},
   "source": [
    "### Most Popular Stories (5%)\n",
    "\n",
    "For this exercise:\n",
    "- Let us choose the most popular stories with a score > 500 over the last year\n",
    "- Lets keep the columns - user (by), userId (id), score (score), title (title)\n"
   ]
  },
  {
   "cell_type": "markdown",
   "metadata": {},
   "source": [
    "#### Solutions"
   ]
  },
  {
   "cell_type": "code",
   "execution_count": 23,
   "metadata": {},
   "outputs": [
    {
     "name": "stdout",
     "output_type": "stream",
     "text": [
      "                   by        id  score  \\\n",
      "1908          appoets  14274033    503   \n",
      "15284       djyaz1200  14107522    547   \n",
      "15291   SimplyUseless  13647190    671   \n",
      "15296       kungfudoi  13309610    511   \n",
      "15297     dantiberian  13860890   1089   \n",
      "15298     NelsonMinar  13747414   2168   \n",
      "20439          lainon  15089476    793   \n",
      "20441         songzme  14723308    837   \n",
      "20442         rsc-dev  13650818    861   \n",
      "20443          elsyms  15147660    869   \n",
      "23475        dgritsko  13382263    533   \n",
      "23476       imartin2k  15694430    795   \n",
      "23479      sohkamyung  15546536    866   \n",
      "23480       throw9982  14136081   1124   \n",
      "23483           nerdy  14357881    629   \n",
      "25532       kungfudoi  13844389    663   \n",
      "25536        oscarwao  13775667   1246   \n",
      "27049   olivercameron  14790251    794   \n",
      "27051      mathgenius  14338411    620   \n",
      "27054          lisper  15827369    740   \n",
      "28384        vthallam  13514802    514   \n",
      "28391        molecule  14189392    655   \n",
      "28396        benbreen  15857833    571   \n",
      "29429           sampo  13719368    704   \n",
      "29433            katm  13531707   1558   \n",
      "30338      prostoalex  13973391    570   \n",
      "30339           danso  14797616    609   \n",
      "31128          krptos  13520891    551   \n",
      "31134        bootload  13547089    556   \n",
      "31849  JumpCrisscross  14630650    558   \n",
      "...               ...       ...    ...   \n",
      "56663          shlema  13797042    695   \n",
      "56670           ihoys  14039135    602   \n",
      "56671             msh  14939976    604   \n",
      "56674         jcastro  15819093    703   \n",
      "56677    Kristine1975  13940014    899   \n",
      "56681          zymhan  15559428    623   \n",
      "56684           okket  15306398    962   \n",
      "56687           jhund  14075720    768   \n",
      "56690       tontonius  14847059    577   \n",
      "56692     yurisagalov  13798130    626   \n",
      "56693       alienchow  14048812    640   \n",
      "56700    awiesenhofer  15904265    790   \n",
      "56701    RBBronson123  14911467   1879   \n",
      "56704     b1naryth1ef  14748028    802   \n",
      "56707           type0  14350293    652   \n",
      "56710   CommieBobDole  15393270    726   \n",
      "56713        gwintrob  13886885    570   \n",
      "56714     tlarkworthy  15550735    670   \n",
      "56718       nullspace  13933696    537   \n",
      "56720      coloneltcb  13785564   1144   \n",
      "56721       anigbrowl  14962634    730   \n",
      "56722        chenster  13417037    515   \n",
      "56723      bensummers  14127071    517   \n",
      "56729         ryanlol  15568078    557   \n",
      "56733       Shinkirou  14921018    567   \n",
      "56734       kierantie  14320392    587   \n",
      "56746        yincrash  14633915    610   \n",
      "56750       Firebrand  15651510    699   \n",
      "56755      borisjabes  15844904    510   \n",
      "56756     fatherofone  13816627    589   \n",
      "\n",
      "                                                   title  \n",
      "1908      Uber is valued at $70B, you can get it at $999  \n",
      "15284                          Jeff Bezos’ Annual Letter  \n",
      "15291       India has banned disposable plastic in Delhi  \n",
      "15296  Startup Puts Everything You Need for a Two-Acr...  \n",
      "15297                   The Uber Bombshell About to Drop  \n",
      "15298                              I am an Uber survivor  \n",
      "20439            Ask HN: What is your favorite CS paper?  \n",
      "20441                                  What Is Ethereum?  \n",
      "20442            GitHub commit search: “remove password”  \n",
      "20443     The art of over-engineering your side projects  \n",
      "23475  Georgia Tech Offers Online Master of Science i...  \n",
      "23476                 The fake Facebook profile industry  \n",
      "23479  Why We Must Fight for the Right to Repair Our ...  \n",
      "23480  Steve Ballmer serves up a data trove about gov...  \n",
      "23483               Chelsea Manning released from prison  \n",
      "25532  What the CIA WikiLeaks Dump Tells Us: Encrypti...  \n",
      "25536        Summary of the Amazon S3 Service Disruption  \n",
      "27049                   The Limitations of Deep Learning  \n",
      "27051  Why do many math books have so much detail and...  \n",
      "27054  After 37 years, Voyager has fired up its traje...  \n",
      "28384  Lyft donates $1M to the ACLU, condemns Trump’s...  \n",
      "28391                          Robert M. Pirsig has died  \n",
      "28396  Portugal’s radical drug policy is working. Why...  \n",
      "29429            Linus' reply on Git and SHA-1 collision  \n",
      "29433                                      Welcome, ACLU  \n",
      "30338                   A lawsuit over Costco golf balls  \n",
      "30339                  The Myth of Drug Expiration Dates  \n",
      "31128    Ask HN: Which developers do you closely follow?  \n",
      "31134  How Children Lost the Right to Roam in Just 4 ...  \n",
      "31849  Texas Is Too Windy and Sunny for Old Energy Co...  \n",
      "...                                                  ...  \n",
      "56663     Why I left Mac for Windows: Apple has given up  \n",
      "56670  Ask HN: Building a side project that makes mon...  \n",
      "56671       Cheap Beijing Flights With a Dangerous Catch  \n",
      "56674                  System76 ME Firmware Updates Plan  \n",
      "56677  VS Code uses 13% CPU when idle due to blinking...  \n",
      "56681  Monsanto Attacks Scientists After Studies Show...  \n",
      "56684                               New in PostgreSQL 10  \n",
      "56687                                        Semantic UI  \n",
      "56690           How Fear and Outrage Are Sold for Profit  \n",
      "56692           A $10K tiny house 3D-printed in 24 hours  \n",
      "56693             How Bank of America Gave Away My Money  \n",
      "56700     Microsoft Adds an OpenSSH Client to Windows 10  \n",
      "56701  Launch HN: 70MillionJobs (YC S17) – Job board ...  \n",
      "56704   How Discord Scaled Elixir to 5M Concurrent Users  \n",
      "56707  Maru OS – A complete desktop experience on a s...  \n",
      "56710                  How the Elderly Lose Their Rights  \n",
      "56713               A million-dollar engineering problem  \n",
      "56714     Microsoft Has Stopped Manufacturing The Kinect  \n",
      "56718                  Update on HTML5 Video for Netflix  \n",
      "56720  How Uber Used Secret “Greyball” Tool to Deceiv...  \n",
      "56721  Disney acquires own streaming facilities, will...  \n",
      "56722  Did Pixar accidentally delete Toy Story 2 duri...  \n",
      "56723  How to Raise a Creative Child – Step One: Back...  \n",
      "56729  Catalan parliament declares independence from ...  \n",
      "56733  Researcher Who Stopped WannaCry Ransomware Det...  \n",
      "56734             Recovering from Burnout and Depression  \n",
      "56746  Sega releasing every console game for free wit...  \n",
      "56750        The Booming Japanese Rent-A-Friend Business  \n",
      "56755                             Books I read this year  \n",
      "56756  Ask HN: Developers with kids, how do you skill...  \n",
      "\n",
      "[969 rows x 4 columns]\n"
     ]
    }
   ],
   "source": [
    "selec_high_scores = df.loc[df['score'] > 500][['by', 'id', 'score', 'title']]\n",
    "print(selec_high_scores)"
   ]
  },
  {
   "cell_type": "markdown",
   "metadata": {},
   "source": [
    "###  Item (Story) - User - Signal (Comment) Lets get all the comments from the database by reviewing fifle (bycomments2017score5.csv.gz) and keep only the user and story information. Please see what problems in data and dealing with them. Show me processed data shapes (how many rows and column) and first five rows of  processed data (5%).\n",
    "\n",
    "\n"
   ]
  },
  {
   "cell_type": "markdown",
   "metadata": {},
   "source": [
    "#### Solutions"
   ]
  },
  {
   "cell_type": "code",
   "execution_count": 16,
   "metadata": {},
   "outputs": [
    {
     "name": "stdout",
     "output_type": "stream",
     "text": [
      "No of rows and columns in data: (450884, 2)\n",
      "Column headers in data: Index(['by', 'parent'], dtype='object')\n",
      "No of samples with null data: by    14537\n",
      "dtype: int64\n",
      "First five rows of data:     by    parent\n",
      "0  NaN  15332819\n",
      "1  NaN  15361981\n",
      "2  NaN  13939068\n",
      "3  NaN  15773920\n",
      "4  NaN  15824599\n"
     ]
    }
   ],
   "source": [
    "import pandas as pd\n",
    "\n",
    "df = pd.read_csv('bycomments2017score5.csv')\n",
    "print(\"No of rows and columns in data: {}\".format(df.shape))\n",
    "print(\"Column headers in data: {}\".format(df.columns))\n",
    "print(\"No of samples with null data: {}\".format(df[df.columns[df.isnull().any()]].isnull().sum()))\n",
    "print(\"First five rows of data: {}\".format(df.head(5)))"
   ]
  },
  {
   "cell_type": "markdown",
   "metadata": {},
   "source": [
    "### Users information (10%). \n",
    "\n",
    "We need to get the details for all the users that have made comments in our list of stories.\n",
    "\n",
    "Also, we are interested in their details\n",
    "- How long have they been on the HN platform? (Created)\n",
    "- How active they are? (# of comments)?\n",
    "- How good they are to the HN community (karma)?\n",
    "\n",
    "We will need to get the User Information from HN\n",
    "\n",
    "- **Hacker News API**: Official API hosted on Firebase - https://github.com/HackerNews/API\n",
    "- **Haxor**: Unofficial HN Python API c- https://github.com/avinassh/haxor\n",
    "- **Ascynio-HN**: A very fast async Python API for HackerNews - https://github.com/itielshwartz/asyncio-hn\n",
    "\n",
    "### Think how you use API to get all uses data information. Download them and save them. Will be used later."
   ]
  },
  {
   "cell_type": "markdown",
   "metadata": {},
   "source": [
    "#### Solutions"
   ]
  },
  {
   "cell_type": "code",
   "execution_count": 36,
   "metadata": {},
   "outputs": [],
   "source": [
    "import json\n",
    "import requests\n",
    "import pandas as pd\n",
    "\n",
    "def get_info(api_url, headers = None):\n",
    "\n",
    "    response = requests.get(api_url, headers=headers)\n",
    "\n",
    "    if response.status_code == 200:\n",
    "        return json.loads(response.content.decode('utf-8'))\n",
    "    else:\n",
    "        return None"
   ]
  },
  {
   "cell_type": "code",
   "execution_count": 44,
   "metadata": {},
   "outputs": [
    {
     "ename": "ValueError",
     "evalue": "DataFrame constructor not properly called!",
     "output_type": "error",
     "traceback": [
      "\u001b[0;31m---------------------------------------------------------------------------\u001b[0m",
      "\u001b[0;31mValueError\u001b[0m                                Traceback (most recent call last)",
      "\u001b[0;32m<ipython-input-44-27d9a2e1852a>\u001b[0m in \u001b[0;36m<module>\u001b[0;34m()\u001b[0m\n\u001b[1;32m      1\u001b[0m \u001b[0mjson_data\u001b[0m \u001b[0;34m=\u001b[0m \u001b[0mget_info\u001b[0m\u001b[0;34m(\u001b[0m\u001b[0;34m'https://hacker-news.firebaseio.com/v0/user/jl.json?print=pretty'\u001b[0m\u001b[0;34m)\u001b[0m\u001b[0;34m\u001b[0m\u001b[0m\n\u001b[0;32m----> 2\u001b[0;31m \u001b[0mdf\u001b[0m \u001b[0;34m=\u001b[0m \u001b[0mpd\u001b[0m\u001b[0;34m.\u001b[0m\u001b[0mconcat\u001b[0m\u001b[0;34m(\u001b[0m\u001b[0;34m[\u001b[0m\u001b[0mpd\u001b[0m\u001b[0;34m.\u001b[0m\u001b[0mDataFrame\u001b[0m\u001b[0;34m(\u001b[0m\u001b[0mv\u001b[0m\u001b[0;34m)\u001b[0m \u001b[0;32mfor\u001b[0m \u001b[0mk\u001b[0m\u001b[0;34m,\u001b[0m\u001b[0mv\u001b[0m \u001b[0;32min\u001b[0m \u001b[0mjson_data\u001b[0m\u001b[0;34m.\u001b[0m\u001b[0mitems\u001b[0m\u001b[0;34m(\u001b[0m\u001b[0;34m)\u001b[0m\u001b[0;34m]\u001b[0m\u001b[0;34m,\u001b[0m \u001b[0mkeys\u001b[0m\u001b[0;34m=\u001b[0m\u001b[0mjson_data\u001b[0m\u001b[0;34m)\u001b[0m\u001b[0;34m\u001b[0m\u001b[0m\n\u001b[0m\u001b[1;32m      3\u001b[0m \u001b[0mprint\u001b[0m \u001b[0;34m(\u001b[0m\u001b[0mdf\u001b[0m\u001b[0;34m)\u001b[0m\u001b[0;34m\u001b[0m\u001b[0m\n",
      "\u001b[0;32m<ipython-input-44-27d9a2e1852a>\u001b[0m in \u001b[0;36m<listcomp>\u001b[0;34m(.0)\u001b[0m\n\u001b[1;32m      1\u001b[0m \u001b[0mjson_data\u001b[0m \u001b[0;34m=\u001b[0m \u001b[0mget_info\u001b[0m\u001b[0;34m(\u001b[0m\u001b[0;34m'https://hacker-news.firebaseio.com/v0/user/jl.json?print=pretty'\u001b[0m\u001b[0;34m)\u001b[0m\u001b[0;34m\u001b[0m\u001b[0m\n\u001b[0;32m----> 2\u001b[0;31m \u001b[0mdf\u001b[0m \u001b[0;34m=\u001b[0m \u001b[0mpd\u001b[0m\u001b[0;34m.\u001b[0m\u001b[0mconcat\u001b[0m\u001b[0;34m(\u001b[0m\u001b[0;34m[\u001b[0m\u001b[0mpd\u001b[0m\u001b[0;34m.\u001b[0m\u001b[0mDataFrame\u001b[0m\u001b[0;34m(\u001b[0m\u001b[0mv\u001b[0m\u001b[0;34m)\u001b[0m \u001b[0;32mfor\u001b[0m \u001b[0mk\u001b[0m\u001b[0;34m,\u001b[0m\u001b[0mv\u001b[0m \u001b[0;32min\u001b[0m \u001b[0mjson_data\u001b[0m\u001b[0;34m.\u001b[0m\u001b[0mitems\u001b[0m\u001b[0;34m(\u001b[0m\u001b[0;34m)\u001b[0m\u001b[0;34m]\u001b[0m\u001b[0;34m,\u001b[0m \u001b[0mkeys\u001b[0m\u001b[0;34m=\u001b[0m\u001b[0mjson_data\u001b[0m\u001b[0;34m)\u001b[0m\u001b[0;34m\u001b[0m\u001b[0m\n\u001b[0m\u001b[1;32m      3\u001b[0m \u001b[0mprint\u001b[0m \u001b[0;34m(\u001b[0m\u001b[0mdf\u001b[0m\u001b[0;34m)\u001b[0m\u001b[0;34m\u001b[0m\u001b[0m\n",
      "\u001b[0;32m/usr/local/lib/python3.7/site-packages/pandas/core/frame.py\u001b[0m in \u001b[0;36m__init__\u001b[0;34m(self, data, index, columns, dtype, copy)\u001b[0m\n\u001b[1;32m    420\u001b[0m                                          dtype=values.dtype, copy=False)\n\u001b[1;32m    421\u001b[0m             \u001b[0;32melse\u001b[0m\u001b[0;34m:\u001b[0m\u001b[0;34m\u001b[0m\u001b[0m\n\u001b[0;32m--> 422\u001b[0;31m                 \u001b[0;32mraise\u001b[0m \u001b[0mValueError\u001b[0m\u001b[0;34m(\u001b[0m\u001b[0;34m'DataFrame constructor not properly called!'\u001b[0m\u001b[0;34m)\u001b[0m\u001b[0;34m\u001b[0m\u001b[0m\n\u001b[0m\u001b[1;32m    423\u001b[0m \u001b[0;34m\u001b[0m\u001b[0m\n\u001b[1;32m    424\u001b[0m         \u001b[0mNDFrame\u001b[0m\u001b[0;34m.\u001b[0m\u001b[0m__init__\u001b[0m\u001b[0;34m(\u001b[0m\u001b[0mself\u001b[0m\u001b[0;34m,\u001b[0m \u001b[0mmgr\u001b[0m\u001b[0;34m,\u001b[0m \u001b[0mfastpath\u001b[0m\u001b[0;34m=\u001b[0m\u001b[0;32mTrue\u001b[0m\u001b[0;34m)\u001b[0m\u001b[0;34m\u001b[0m\u001b[0m\n",
      "\u001b[0;31mValueError\u001b[0m: DataFrame constructor not properly called!"
     ]
    }
   ],
   "source": [
    "json_data = get_info('https://hacker-news.firebaseio.com/v0/user/jl.json?print=pretty')\n",
    "df = pd.concat([pd.DataFrame(v) for k,v in json_data.items()], keys=json_data)\n",
    "print (df)"
   ]
  },
  {
   "cell_type": "markdown",
   "metadata": {},
   "source": [
    "## (30%) Feature Engineering (Data Transform)"
   ]
  },
  {
   "cell_type": "markdown",
   "metadata": {},
   "source": [
    "How do we create the user-item matrix for the HackerNews Dataset\n",
    "- OneHot Encoding\n",
    "- Sparse Matrix (for scalability)"
   ]
  },
  {
   "cell_type": "markdown",
   "metadata": {},
   "source": [
    "### What is OneHot Encoding and its purpose (5%). Could you apply OneHot to encode previous obtained story user comment data from bycomments2017score5.csv.gz ? Show encoded data previous few rows. (10%)"
   ]
  },
  {
   "cell_type": "markdown",
   "metadata": {},
   "source": [
    "#### Solutions:\n",
    "\n"
   ]
  },
  {
   "cell_type": "code",
   "execution_count": null,
   "metadata": {},
   "outputs": [],
   "source": []
  },
  {
   "cell_type": "markdown",
   "metadata": {},
   "source": [
    "### Could you what is Coordinate list (COO) compression format for sparse matrix generation (5%)\n",
    "### Implment this to compress previous obtained story user comment data from bycomments2017score5.csv.gz (10%)."
   ]
  },
  {
   "cell_type": "markdown",
   "metadata": {},
   "source": [
    "#### Solutions\n",
    "\n"
   ]
  },
  {
   "cell_type": "code",
   "execution_count": null,
   "metadata": {},
   "outputs": [],
   "source": []
  }
 ],
 "metadata": {
  "anaconda-cloud": {},
  "kernelspec": {
   "display_name": "Python 3",
   "language": "python",
   "name": "python3"
  },
  "language_info": {
   "codemirror_mode": {
    "name": "ipython",
    "version": 3
   },
   "file_extension": ".py",
   "mimetype": "text/x-python",
   "name": "python",
   "nbconvert_exporter": "python",
   "pygments_lexer": "ipython3",
   "version": "3.7.0"
  }
 },
 "nbformat": 4,
 "nbformat_minor": 2
}
