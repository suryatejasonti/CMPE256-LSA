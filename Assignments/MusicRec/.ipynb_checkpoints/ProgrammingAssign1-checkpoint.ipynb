{
 "cells": [
  {
   "cell_type": "code",
   "execution_count": 20,
   "metadata": {
    "collapsed": true
   },
   "outputs": [],
   "source": [
    "from surprise import BaselineOnly\n",
    "import pandas as pd\n",
    "from surprise import NormalPredictor\n",
    "from surprise import Dataset\n",
    "from surprise import Reader\n",
    "from surprise.model_selection import cross_validate\n",
    "from surprise import Dataset, evaluate\n",
    "from surprise import KNNBasic\n",
    "from surprise import SVD\n",
    "from surprise.model_selection import KFold\n",
    "\n",
    "df = pd.read_csv('train.csv')\n",
    "\n",
    "reader = Reader(rating_scale=(1, 100))\n",
    "data = Dataset.load_from_df(df[['User', 'Track', 'Rating']], reader)\n",
    "trainingSet = data.build_full_trainset()\n"
   ]
  },
  {
   "cell_type": "code",
   "execution_count": 2,
   "metadata": {},
   "outputs": [
    {
     "name": "stdout",
     "output_type": "stream",
     "text": [
      "<surprise.dataset.DatasetAutoFolds object at 0x10ed0beb8>\n"
     ]
    }
   ],
   "source": [
    "print(data)"
   ]
  },
  {
   "cell_type": "code",
   "execution_count": 3,
   "metadata": {},
   "outputs": [
    {
     "data": {
      "text/html": [
       "<div>\n",
       "<style>\n",
       "    .dataframe thead tr:only-child th {\n",
       "        text-align: right;\n",
       "    }\n",
       "\n",
       "    .dataframe thead th {\n",
       "        text-align: left;\n",
       "    }\n",
       "\n",
       "    .dataframe tbody tr th {\n",
       "        vertical-align: top;\n",
       "    }\n",
       "</style>\n",
       "<table border=\"1\" class=\"dataframe\">\n",
       "  <thead>\n",
       "    <tr style=\"text-align: right;\">\n",
       "      <th></th>\n",
       "      <th>User</th>\n",
       "      <th>Track</th>\n",
       "      <th>Rating</th>\n",
       "    </tr>\n",
       "  </thead>\n",
       "  <tbody>\n",
       "    <tr>\n",
       "      <th>0</th>\n",
       "      <td>1</td>\n",
       "      <td>0</td>\n",
       "      <td>27</td>\n",
       "    </tr>\n",
       "    <tr>\n",
       "      <th>1</th>\n",
       "      <td>4</td>\n",
       "      <td>0</td>\n",
       "      <td>10</td>\n",
       "    </tr>\n",
       "    <tr>\n",
       "      <th>2</th>\n",
       "      <td>8</td>\n",
       "      <td>0</td>\n",
       "      <td>30</td>\n",
       "    </tr>\n",
       "    <tr>\n",
       "      <th>3</th>\n",
       "      <td>10</td>\n",
       "      <td>0</td>\n",
       "      <td>30</td>\n",
       "    </tr>\n",
       "    <tr>\n",
       "      <th>4</th>\n",
       "      <td>11</td>\n",
       "      <td>0</td>\n",
       "      <td>14</td>\n",
       "    </tr>\n",
       "  </tbody>\n",
       "</table>\n",
       "</div>"
      ],
      "text/plain": [
       "   User  Track  Rating\n",
       "0     1      0      27\n",
       "1     4      0      10\n",
       "2     8      0      30\n",
       "3    10      0      30\n",
       "4    11      0      14"
      ]
     },
     "execution_count": 3,
     "metadata": {},
     "output_type": "execute_result"
    }
   ],
   "source": [
    "df.head()"
   ]
  },
  {
   "cell_type": "code",
   "execution_count": 4,
   "metadata": {
    "collapsed": true
   },
   "outputs": [],
   "source": [
    "dt = pd.read_csv('test.csv')"
   ]
  },
  {
   "cell_type": "code",
   "execution_count": 5,
   "metadata": {},
   "outputs": [
    {
     "data": {
      "text/html": [
       "<div>\n",
       "<style>\n",
       "    .dataframe thead tr:only-child th {\n",
       "        text-align: right;\n",
       "    }\n",
       "\n",
       "    .dataframe thead th {\n",
       "        text-align: left;\n",
       "    }\n",
       "\n",
       "    .dataframe tbody tr th {\n",
       "        vertical-align: top;\n",
       "    }\n",
       "</style>\n",
       "<table border=\"1\" class=\"dataframe\">\n",
       "  <thead>\n",
       "    <tr style=\"text-align: right;\">\n",
       "      <th></th>\n",
       "      <th>User</th>\n",
       "      <th>Track</th>\n",
       "    </tr>\n",
       "  </thead>\n",
       "  <tbody>\n",
       "    <tr>\n",
       "      <th>0</th>\n",
       "      <td>466</td>\n",
       "      <td>0</td>\n",
       "    </tr>\n",
       "    <tr>\n",
       "      <th>1</th>\n",
       "      <td>1173</td>\n",
       "      <td>0</td>\n",
       "    </tr>\n",
       "    <tr>\n",
       "      <th>2</th>\n",
       "      <td>566</td>\n",
       "      <td>1</td>\n",
       "    </tr>\n",
       "    <tr>\n",
       "      <th>3</th>\n",
       "      <td>49</td>\n",
       "      <td>3</td>\n",
       "    </tr>\n",
       "    <tr>\n",
       "      <th>4</th>\n",
       "      <td>772</td>\n",
       "      <td>3</td>\n",
       "    </tr>\n",
       "  </tbody>\n",
       "</table>\n",
       "</div>"
      ],
      "text/plain": [
       "   User  Track\n",
       "0   466      0\n",
       "1  1173      0\n",
       "2   566      1\n",
       "3    49      3\n",
       "4   772      3"
      ]
     },
     "execution_count": 5,
     "metadata": {},
     "output_type": "execute_result"
    }
   ],
   "source": [
    "dt.head()"
   ]
  },
  {
   "cell_type": "code",
   "execution_count": 21,
   "metadata": {},
   "outputs": [],
   "source": [
    "sim_options = {\n",
    "    'name': 'cosine',\n",
    "    'user_based': True\n",
    "}\n",
    " \n",
    "#algo = KNNBasic(sim_options=sim_options)\n",
    "algo=SVD()\n",
    "\n",
    "kf = KFold(n_splits=3)\n",
    "\n",
    "for trainset, testset in kf.split(data):\n",
    "\n",
    "    # train and test algorithm.\n",
    "    algo.fit(trainingSet)\n",
    "    predictions = algo.test(testset)\n",
    "\n",
    "#algo.fit(trainingSet)"
   ]
  },
  {
   "cell_type": "code",
   "execution_count": 22,
   "metadata": {},
   "outputs": [],
   "source": [
    "\n",
    "result=[]\n",
    "id=[]\n",
    "\n",
    "for index, row in dt.iterrows():\n",
    "    id.append(str((row['User']))+'-'+str((row['Track'])))\n",
    "    result.append(algo.predict(row['User'], row['Track']).est)\n"
   ]
  },
  {
   "cell_type": "code",
   "execution_count": 23,
   "metadata": {},
   "outputs": [],
   "source": [
    "result=pd.DataFrame({'ID':pd.Series(id),'Rating':pd.Series(result)})"
   ]
  },
  {
   "cell_type": "code",
   "execution_count": 24,
   "metadata": {},
   "outputs": [
    {
     "name": "stdout",
     "output_type": "stream",
     "text": [
      "              ID     Rating\n",
      "0          466-0  52.913016\n",
      "1         1173-0  42.722982\n",
      "2          566-1  37.280713\n",
      "3           49-3  33.969137\n",
      "4          772-3  23.494752\n",
      "5         1068-3  34.352069\n",
      "6         1534-3  28.460681\n",
      "7      39132-150  31.150712\n",
      "8      39671-150  54.229392\n",
      "9      40638-150  32.306865\n",
      "10     40715-150  33.725078\n",
      "11     40843-150  14.935972\n",
      "12     40742-151  37.146428\n",
      "13        2902-4  50.333328\n",
      "14        2087-6  31.786587\n",
      "15        2736-6  12.964159\n",
      "16        3699-6  32.281369\n",
      "17        2132-7  13.337610\n",
      "18        4554-7  32.195650\n",
      "19        4566-7  37.296858\n",
      "20        2075-8  30.925424\n",
      "21        4648-8  33.051873\n",
      "22        4955-8  40.017424\n",
      "23      24180-69  25.327693\n",
      "24      24711-69   8.350005\n",
      "25      21545-70  14.119213\n",
      "26      21549-70  52.714358\n",
      "27      24174-70  66.480132\n",
      "28      24906-70  50.285932\n",
      "29     47507-173  18.086773\n",
      "...          ...        ...\n",
      "31115  50670-179  32.179795\n",
      "31116  47551-180  28.890238\n",
      "31117  49131-180  50.085348\n",
      "31118  50568-180  12.197212\n",
      "31119  50711-181  45.763082\n",
      "31120  41478-155  15.317350\n",
      "31121  42390-155  69.941036\n",
      "31122  41402-156  66.656610\n",
      "31123  43266-157  83.728749\n",
      "31124  41402-158  46.671760\n",
      "31125  42998-159  48.081641\n",
      "31126  41651-161  26.432452\n",
      "31127  43217-161  50.556735\n",
      "31128  42418-162  54.188317\n",
      "31129  43651-164  35.445558\n",
      "31130  44074-165  45.821673\n",
      "31131  45498-165  31.093617\n",
      "31132  43334-166  43.510484\n",
      "31133  43551-167  49.574708\n",
      "31134  44080-167  26.099042\n",
      "31135  44921-167  20.863948\n",
      "31136  44134-168  15.768316\n",
      "31137  44142-168  41.325928\n",
      "31138  45418-169  33.409272\n",
      "31139  45868-170  45.851874\n",
      "31140  46567-170  13.962328\n",
      "31141  46298-171  26.425493\n",
      "31142  47876-172  41.199092\n",
      "31143  48004-172  32.138314\n",
      "31144  50143-182  48.106399\n",
      "\n",
      "[31145 rows x 2 columns]\n"
     ]
    }
   ],
   "source": [
    "print(result)"
   ]
  },
  {
   "cell_type": "code",
   "execution_count": 18,
   "metadata": {
    "collapsed": true
   },
   "outputs": [],
   "source": [
    "result.to_csv('Results.csv',index=False)"
   ]
  },
  {
   "cell_type": "code",
   "execution_count": null,
   "metadata": {
    "collapsed": true
   },
   "outputs": [],
   "source": []
  }
 ],
 "metadata": {
  "kernelspec": {
   "display_name": "Python 3",
   "language": "python",
   "name": "python3"
  },
  "language_info": {
   "codemirror_mode": {
    "name": "ipython",
    "version": 3
   },
   "file_extension": ".py",
   "mimetype": "text/x-python",
   "name": "python",
   "nbconvert_exporter": "python",
   "pygments_lexer": "ipython3",
   "version": "3.7.0"
  }
 },
 "nbformat": 4,
 "nbformat_minor": 2
}
