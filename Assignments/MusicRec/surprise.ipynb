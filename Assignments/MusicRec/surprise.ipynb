{
 "cells": [
  {
   "cell_type": "code",
   "execution_count": 5,
   "metadata": {},
   "outputs": [],
   "source": [
    "from surprise import Reader, Dataset\n",
    "import pandas as pd"
   ]
  },
  {
   "cell_type": "code",
   "execution_count": 6,
   "metadata": {},
   "outputs": [],
   "source": [
    "data = pd.read_csv('train.csv')"
   ]
  },
  {
   "cell_type": "code",
   "execution_count": 8,
   "metadata": {},
   "outputs": [],
   "source": [
    "df = pd.read_csv('train.csv')\n",
    "\n",
    "reader = Reader(rating_scale=(1, 100))\n",
    "data = Dataset.load_from_df(df[['User', 'Track', 'Rating']], reader)"
   ]
  },
  {
   "cell_type": "code",
   "execution_count": 12,
   "metadata": {},
   "outputs": [],
   "source": [
    "# Split data into 5 folds\n",
    "data.split(n_folds=10)"
   ]
  },
  {
   "cell_type": "code",
   "execution_count": 13,
   "metadata": {},
   "outputs": [
    {
     "name": "stderr",
     "output_type": "stream",
     "text": [
      "/usr/local/lib/python3.7/site-packages/surprise/evaluate.py:66: UserWarning: The evaluate() method is deprecated. Please use model_selection.cross_validate() instead.\n",
      "  'model_selection.cross_validate() instead.', UserWarning)\n",
      "/usr/local/lib/python3.7/site-packages/surprise/dataset.py:193: UserWarning: Using data.split() or using load_from_folds() without using a CV iterator is now deprecated. \n",
      "  UserWarning)\n"
     ]
    },
    {
     "name": "stdout",
     "output_type": "stream",
     "text": [
      "Evaluating RMSE, MAE of algorithm SVD.\n",
      "\n",
      "------------\n",
      "Fold 1\n",
      "RMSE: 16.5678\n",
      "MAE:  12.5269\n",
      "------------\n",
      "Fold 2\n",
      "RMSE: 16.5062\n",
      "MAE:  12.4800\n",
      "------------\n",
      "Fold 3\n",
      "RMSE: 16.4423\n",
      "MAE:  12.4970\n",
      "------------\n",
      "Fold 4\n",
      "RMSE: 16.4195\n",
      "MAE:  12.5021\n",
      "------------\n",
      "Fold 5\n",
      "RMSE: 16.5208\n",
      "MAE:  12.5275\n",
      "------------\n",
      "Fold 6\n",
      "RMSE: 16.3198\n",
      "MAE:  12.4615\n",
      "------------\n",
      "Fold 7\n",
      "RMSE: 16.4022\n",
      "MAE:  12.5078\n",
      "------------\n",
      "Fold 8\n",
      "RMSE: 16.4454\n",
      "MAE:  12.4883\n",
      "------------\n",
      "Fold 9\n",
      "RMSE: 16.3762\n",
      "MAE:  12.3721\n",
      "------------\n",
      "Fold 10\n",
      "RMSE: 16.3628\n",
      "MAE:  12.4620\n",
      "------------\n",
      "------------\n",
      "Mean RMSE: 16.4363\n",
      "Mean MAE : 12.4825\n",
      "------------\n",
      "------------\n"
     ]
    },
    {
     "data": {
      "text/plain": [
       "CaseInsensitiveDefaultDict(list,\n",
       "                           {'rmse': [16.567762109787598,\n",
       "                             16.506171374272927,\n",
       "                             16.44231102811687,\n",
       "                             16.419532195190893,\n",
       "                             16.520793459094637,\n",
       "                             16.319751286853265,\n",
       "                             16.402232198429466,\n",
       "                             16.445381299283387,\n",
       "                             16.376245486011495,\n",
       "                             16.362769094869005],\n",
       "                            'mae': [12.526942605354737,\n",
       "                             12.47999380758737,\n",
       "                             12.497030500857294,\n",
       "                             12.502078410674773,\n",
       "                             12.527544881726621,\n",
       "                             12.46152767606491,\n",
       "                             12.507758796179386,\n",
       "                             12.488322445035408,\n",
       "                             12.372085984180806,\n",
       "                             12.461999047070776]})"
      ]
     },
     "execution_count": 13,
     "metadata": {},
     "output_type": "execute_result"
    }
   ],
   "source": [
    "from surprise import SVD, evaluate\n",
    "algo = SVD()\n",
    "evaluate(algo, data, measures=['RMSE', 'MAE'])"
   ]
  },
  {
   "cell_type": "code",
   "execution_count": null,
   "metadata": {},
   "outputs": [],
   "source": []
  }
 ],
 "metadata": {
  "kernelspec": {
   "display_name": "Python 3",
   "language": "python",
   "name": "python3"
  },
  "language_info": {
   "codemirror_mode": {
    "name": "ipython",
    "version": 3
   },
   "file_extension": ".py",
   "mimetype": "text/x-python",
   "name": "python",
   "nbconvert_exporter": "python",
   "pygments_lexer": "ipython3",
   "version": "3.7.0"
  }
 },
 "nbformat": 4,
 "nbformat_minor": 2
}
