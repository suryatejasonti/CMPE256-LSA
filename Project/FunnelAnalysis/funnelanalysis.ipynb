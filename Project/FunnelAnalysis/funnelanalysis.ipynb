{
 "cells": [
  {
   "cell_type": "code",
   "execution_count": 67,
   "metadata": {},
   "outputs": [
    {
     "name": "stdout",
     "output_type": "stream",
     "text": [
      "Shape of df_user_data: (90400, 4), df_home: (90400, 2), df_search: (45200, 2), df_payment_page: (6030, 2), df_payment_confirm: (452, 2)\n"
     ]
    }
   ],
   "source": [
    "import pandas as pd\n",
    "\n",
    "df_home = pd.read_csv('./data/home_page_table.csv')\n",
    "df_payment_confirm = pd.read_csv('./data/payment_confirmation_table.csv')\n",
    "df_payment_page = pd.read_csv('./data/payment_page_table.csv')\n",
    "df_search = pd.read_csv('./data/search_page_table.csv')\n",
    "df_user_data = pd.read_csv('./data/user_table.csv')\n",
    "print('Shape of df_user_data: {}, df_home: {}, df_search: {}, df_payment_page: {}, df_payment_confirm: {}'.format(df_user_data.shape, df_home.shape, df_search.shape, df_payment_page.shape, df_payment_confirm.shape))"
   ]
  },
  {
   "cell_type": "code",
   "execution_count": 63,
   "metadata": {},
   "outputs": [
    {
     "name": "stdout",
     "output_type": "stream",
     "text": [
      "   user_id        date   device     sex     page_x       page_y page_x page_y\n",
      "0   450007  2015-02-28  Desktop  Female  home_page          NaN    NaN    NaN\n",
      "1   756838  2015-01-13  Desktop    Male  home_page          NaN    NaN    NaN\n",
      "2   568983  2015-04-09  Desktop    Male  home_page  search_page    NaN    NaN\n",
      "3   190794  2015-02-18  Desktop  Female  home_page  search_page    NaN    NaN\n",
      "4   537909  2015-01-15  Desktop    Male  home_page          NaN    NaN    NaN\n",
      "5   993454  2015-03-03  Desktop    Male  home_page          NaN    NaN    NaN\n",
      "6   377150  2015-04-15  Desktop  Female  home_page  search_page    NaN    NaN\n",
      "7   137258  2015-01-27   Mobile    Male  home_page          NaN    NaN    NaN\n",
      "8   608249  2015-04-12  Desktop  Female  home_page          NaN    NaN    NaN\n",
      "9   615615  2015-02-24   Mobile  Female  home_page  search_page    NaN    NaN\n",
      "   user_id        date   device     sex       page\n",
      "0   450007  2015-02-28  Desktop  Female  home_page\n",
      "1   756838  2015-01-13  Desktop    Male  home_page\n",
      "2   568983  2015-04-09  Desktop    Male  home_page\n",
      "3   190794  2015-02-18  Desktop  Female  home_page\n",
      "4   537909  2015-01-15  Desktop    Male  home_page\n",
      "5   993454  2015-03-03  Desktop    Male  home_page\n",
      "6   377150  2015-04-15  Desktop  Female  home_page\n",
      "7   137258  2015-01-27   Mobile    Male  home_page\n",
      "8   608249  2015-04-12  Desktop  Female  home_page\n",
      "9   615615  2015-02-24   Mobile  Female  home_page\n"
     ]
    }
   ],
   "source": [
    "from functools import reduce; \n",
    "\n",
    "def mergedf(df_list, on_col, how_join):\n",
    "    df = reduce(lambda left,right: pd.merge(left, right, on=on_col, how=how_join), df_list)\n",
    "    return df\n",
    "\n",
    "df = mergedf([df_user_data, df_home, df_search, df_payment_page, df_payment_confirm], 'user_id', 'outer')\n",
    "df = pd.melt(df, id_vars=['user_id', 'date', 'device', 'sex'], value_name='page').drop(['variable'],axis=1)\n",
    "print(df.head(10))"
   ]
  },
  {
   "cell_type": "code",
   "execution_count": 64,
   "metadata": {},
   "outputs": [
    {
     "data": {
      "text/html": [
       "<div>\n",
       "<style scoped>\n",
       "    .dataframe tbody tr th:only-of-type {\n",
       "        vertical-align: middle;\n",
       "    }\n",
       "\n",
       "    .dataframe tbody tr th {\n",
       "        vertical-align: top;\n",
       "    }\n",
       "\n",
       "    .dataframe thead th {\n",
       "        text-align: right;\n",
       "    }\n",
       "</style>\n",
       "<table border=\"1\" class=\"dataframe\">\n",
       "  <thead>\n",
       "    <tr style=\"text-align: right;\">\n",
       "      <th></th>\n",
       "      <th>home_page</th>\n",
       "      <th>search_page</th>\n",
       "      <th>payment_page</th>\n",
       "      <th>payment_confirmation_page</th>\n",
       "    </tr>\n",
       "    <tr>\n",
       "      <th>user_id</th>\n",
       "      <th></th>\n",
       "      <th></th>\n",
       "      <th></th>\n",
       "      <th></th>\n",
       "    </tr>\n",
       "  </thead>\n",
       "  <tbody>\n",
       "    <tr>\n",
       "      <th>17</th>\n",
       "      <td>1</td>\n",
       "      <td>1</td>\n",
       "      <td>0</td>\n",
       "      <td>0</td>\n",
       "    </tr>\n",
       "    <tr>\n",
       "      <th>28</th>\n",
       "      <td>1</td>\n",
       "      <td>0</td>\n",
       "      <td>0</td>\n",
       "      <td>0</td>\n",
       "    </tr>\n",
       "    <tr>\n",
       "      <th>37</th>\n",
       "      <td>1</td>\n",
       "      <td>1</td>\n",
       "      <td>0</td>\n",
       "      <td>0</td>\n",
       "    </tr>\n",
       "    <tr>\n",
       "      <th>38</th>\n",
       "      <td>1</td>\n",
       "      <td>1</td>\n",
       "      <td>1</td>\n",
       "      <td>0</td>\n",
       "    </tr>\n",
       "    <tr>\n",
       "      <th>55</th>\n",
       "      <td>1</td>\n",
       "      <td>0</td>\n",
       "      <td>0</td>\n",
       "      <td>0</td>\n",
       "    </tr>\n",
       "  </tbody>\n",
       "</table>\n",
       "</div>"
      ],
      "text/plain": [
       "         home_page  search_page  payment_page  payment_confirmation_page\n",
       "user_id                                                                 \n",
       "17               1            1             0                          0\n",
       "28               1            0             0                          0\n",
       "37               1            1             0                          0\n",
       "38               1            1             1                          0\n",
       "55               1            0             0                          0"
      ]
     },
     "execution_count": 64,
     "metadata": {},
     "output_type": "execute_result"
    }
   ],
   "source": [
    "GROUP_KEY = 'user_id'\n",
    "TIME_FIELD = 'date'\n",
    "EVENT_FIELD = 'page'\n",
    "FUNNEL_STEPS = ['home_page', 'search_page', 'payment_page', 'payment_confirmation_page']\n",
    "\n",
    "\n",
    "def funnelize(group, funnel_steps):\n",
    "    funnel_cts = [0 for s in funnel_steps]\n",
    "\n",
    "    for i, row in group.iterrows():\n",
    "        evt = row[EVENT_FIELD]\n",
    "        if evt in funnel_steps:\n",
    "            idx = funnel_steps.index(evt)\n",
    "            funnel_cts[idx] += 1\n",
    "            \n",
    "    return funnel_cts\n",
    "\n",
    "\n",
    "# sort event dataset by user\n",
    "df.sort_values(by=GROUP_KEY, ascending=True, inplace=True)\n",
    "\n",
    "# step through events by group_key (i.e., browser, visit), \n",
    "# and increment event counts by funnel step if prior funnel steps occurred\n",
    "funnel_cts = df.groupby(GROUP_KEY).apply(funnelize, FUNNEL_STEPS)\n",
    "\n",
    "# format results as a dataframe\n",
    "funnel = pd.DataFrame(list(funnel_cts.values), index=funnel_cts.index, columns=FUNNEL_STEPS)\n",
    "\n",
    "funnel.head()"
   ]
  },
  {
   "cell_type": "code",
   "execution_count": 46,
   "metadata": {},
   "outputs": [
    {
     "name": "stdout",
     "output_type": "stream",
     "text": [
      "home_page                    90400\n",
      "search_page                  45200\n",
      "payment_page                  6030\n",
      "payment_confirmation_page      452\n",
      "dtype: int64\n"
     ]
    }
   ],
   "source": [
    "# funnel summary (aggregate)\n",
    "\n",
    "print (funnel[FUNNEL_STEPS].sum())"
   ]
  },
  {
   "cell_type": "code",
   "execution_count": 47,
   "metadata": {},
   "outputs": [
    {
     "name": "stdout",
     "output_type": "stream",
     "text": [
      "home_page                    90400\n",
      "search_page                  45200\n",
      "payment_page                  6030\n",
      "payment_confirmation_page      452\n",
      "dtype: int64\n"
     ]
    }
   ],
   "source": [
    "# funnel summary, deduped across group key \n",
    "# (i.e., event occurrences become 1/0 indicators instead of counts)\n",
    "\n",
    "funnel_norm = funnel.copy()\n",
    "funnel_norm[funnel_norm != 0] = 1\n",
    "funnel_analysis = funnel_norm[FUNNEL_STEPS].sum()\n",
    "print (funnel_analysis)"
   ]
  },
  {
   "cell_type": "code",
   "execution_count": 48,
   "metadata": {},
   "outputs": [
    {
     "data": {
      "text/html": [
       "<script>requirejs.config({paths: { 'plotly': ['https://cdn.plot.ly/plotly-latest.min']},});if(!window.Plotly) {{require(['plotly'],function(plotly) {window.Plotly=plotly;});}}</script>"
      ],
      "text/vnd.plotly.v1+html": [
       "<script>requirejs.config({paths: { 'plotly': ['https://cdn.plot.ly/plotly-latest.min']},});if(!window.Plotly) {{require(['plotly'],function(plotly) {window.Plotly=plotly;});}}</script>"
      ]
     },
     "metadata": {},
     "output_type": "display_data"
    }
   ],
   "source": [
    "from plotly import __version__\n",
    "from plotly.offline import download_plotlyjs, init_notebook_mode, iplot\n",
    "init_notebook_mode(connected=True)\n",
    "import plotly.graph_objs as go\n",
    "from __future__ import division\n",
    "\n",
    "colors = ['rgb(32,155,160)', 'rgb(253,93,124)', 'rgb(28,119,139)', 'rgb(182,231,235)']\n",
    "phases = list(funnel_analysis.index)\n",
    "values = list(funnel_analysis)"
   ]
  },
  {
   "cell_type": "code",
   "execution_count": 49,
   "metadata": {},
   "outputs": [],
   "source": [
    "n_phase = len(phases)\n",
    " \n",
    "# the fixed width for the plot\n",
    "plot_width = 400\n",
    " \n",
    "# height of a section and difference between sections \n",
    "section_h = 100\n",
    "section_d = 10\n",
    " \n",
    "# multiply factor to calculate the width of other sections\n",
    "unit_width = plot_width / max(values)\n",
    " \n",
    "# width for all the sections (phases)\n",
    "phase_w = [int(value * unit_width) for value in values]"
   ]
  },
  {
   "cell_type": "code",
   "execution_count": 50,
   "metadata": {},
   "outputs": [],
   "source": [
    "height = section_h * n_phase + section_d * (n_phase-1)\n",
    " \n",
    "shapes = []\n",
    " \n",
    "label_y = []\n",
    " \n",
    "for i in range(n_phase):\n",
    "        if (i == n_phase-1):\n",
    "                points = [phase_w[i]/2, height, phase_w[i]/2, height - section_h]\n",
    "        else:\n",
    "                points = [phase_w[i]/2, height, phase_w[i+1]/2, height - section_h]\n",
    " \n",
    "        path = 'M {0} {1} L {2} {3} L -{2} {3} L -{0} {1} Z'.format(*points)\n",
    " \n",
    "        shape = {\n",
    "                'type': 'path',\n",
    "                'path': path,\n",
    "                'fillcolor': colors[i],\n",
    "                'line': {\n",
    "                    'width': 1,\n",
    "                    'color': colors[i]\n",
    "                }\n",
    "        }\n",
    "        shapes.append(shape)\n",
    "        \n",
    "        # Y-axis location for this section's details (phase name and value)\n",
    "        label_y.append(height - (section_h / 2))\n",
    " \n",
    "        height = height - (section_h + section_d)"
   ]
  },
  {
   "cell_type": "code",
   "execution_count": 51,
   "metadata": {},
   "outputs": [],
   "source": [
    "# For phase names\n",
    "label_trace = go.Scatter(\n",
    "    x=[-350]*n_phase,\n",
    "    y=label_y,\n",
    "    mode='text',\n",
    "    text=phases,\n",
    "    textfont=dict(\n",
    "        color='rgb(200,200,200)',\n",
    "        size=15\n",
    "    )\n",
    ")\n",
    " \n",
    "# For phase values\n",
    "value_trace = go.Scatter(\n",
    "    x=[350]*n_phase,\n",
    "    y=label_y,\n",
    "    mode='text',\n",
    "    text=values,\n",
    "    textfont=dict(\n",
    "        color='rgb(200,200,200)',\n",
    "        size=15\n",
    "    )\n",
    ")"
   ]
  },
  {
   "cell_type": "code",
   "execution_count": 52,
   "metadata": {},
   "outputs": [
    {
     "data": {
      "application/vnd.plotly.v1+json": {
       "data": [
        {
         "mode": "text",
         "text": [
          "home_page",
          "search_page",
          "payment_page",
          "payment_confirmation_page"
         ],
         "textfont": {
          "color": "rgb(200,200,200)",
          "size": 15
         },
         "type": "scatter",
         "uid": "36b513fc-dc97-11e8-a42e-fa00142ac801",
         "x": [
          -350,
          -350,
          -350,
          -350
         ],
         "y": [
          380,
          270,
          160,
          50
         ]
        },
        {
         "mode": "text",
         "text": [
          "90400",
          "45200",
          "6030",
          "452"
         ],
         "textfont": {
          "color": "rgb(200,200,200)",
          "size": 15
         },
         "type": "scatter",
         "uid": "36b51532-dc97-11e8-a42e-fa00142ac801",
         "x": [
          350,
          350,
          350,
          350
         ],
         "y": [
          380,
          270,
          160,
          50
         ]
        }
       ],
       "layout": {
        "height": 560,
        "paper_bgcolor": "rgba(44,58,71,1)",
        "plot_bgcolor": "rgba(44,58,71,1)",
        "shapes": [
         {
          "fillcolor": "rgb(32,155,160)",
          "line": {
           "color": "rgb(32,155,160)",
           "width": 1
          },
          "path": "M 200.0 430 L 100.0 330 L -100.0 330 L -200.0 430 Z",
          "type": "path"
         },
         {
          "fillcolor": "rgb(253,93,124)",
          "line": {
           "color": "rgb(253,93,124)",
           "width": 1
          },
          "path": "M 100.0 320 L 13.0 220 L -13.0 220 L -100.0 320 Z",
          "type": "path"
         },
         {
          "fillcolor": "rgb(28,119,139)",
          "line": {
           "color": "rgb(28,119,139)",
           "width": 1
          },
          "path": "M 13.0 210 L 1.0 110 L -1.0 110 L -13.0 210 Z",
          "type": "path"
         },
         {
          "fillcolor": "rgb(182,231,235)",
          "line": {
           "color": "rgb(182,231,235)",
           "width": 1
          },
          "path": "M 1.0 100 L 1.0 0 L -1.0 0 L -1.0 100 Z",
          "type": "path"
         }
        ],
        "showlegend": true,
        "title": "Funnel Chart",
        "width": 800,
        "xaxis": {
         "showticklabels": false,
         "zeroline": false
        },
        "yaxis": {
         "showticklabels": false,
         "zeroline": false
        }
       }
      },
      "text/html": [
       "<div id=\"c42afb71-9aab-4e0f-9187-0288e2ce599e\" style=\"height: 560px; width: 800px;\" class=\"plotly-graph-div\"></div><script type=\"text/javascript\">require([\"plotly\"], function(Plotly) { window.PLOTLYENV=window.PLOTLYENV || {};window.PLOTLYENV.BASE_URL=\"https://plot.ly\";Plotly.newPlot(\"c42afb71-9aab-4e0f-9187-0288e2ce599e\", [{\"mode\": \"text\", \"text\": [\"home_page\", \"search_page\", \"payment_page\", \"payment_confirmation_page\"], \"textfont\": {\"color\": \"rgb(200,200,200)\", \"size\": 15}, \"x\": [-350, -350, -350, -350], \"y\": [380.0, 270.0, 160.0, 50.0], \"type\": \"scatter\", \"uid\": \"36b513fc-dc97-11e8-a42e-fa00142ac801\"}, {\"mode\": \"text\", \"text\": [\"90400\", \"45200\", \"6030\", \"452\"], \"textfont\": {\"color\": \"rgb(200,200,200)\", \"size\": 15}, \"x\": [350, 350, 350, 350], \"y\": [380.0, 270.0, 160.0, 50.0], \"type\": \"scatter\", \"uid\": \"36b51532-dc97-11e8-a42e-fa00142ac801\"}], {\"height\": 560, \"paper_bgcolor\": \"rgba(44,58,71,1)\", \"plot_bgcolor\": \"rgba(44,58,71,1)\", \"shapes\": [{\"fillcolor\": \"rgb(32,155,160)\", \"line\": {\"color\": \"rgb(32,155,160)\", \"width\": 1}, \"path\": \"M 200.0 430 L 100.0 330 L -100.0 330 L -200.0 430 Z\", \"type\": \"path\"}, {\"fillcolor\": \"rgb(253,93,124)\", \"line\": {\"color\": \"rgb(253,93,124)\", \"width\": 1}, \"path\": \"M 100.0 320 L 13.0 220 L -13.0 220 L -100.0 320 Z\", \"type\": \"path\"}, {\"fillcolor\": \"rgb(28,119,139)\", \"line\": {\"color\": \"rgb(28,119,139)\", \"width\": 1}, \"path\": \"M 13.0 210 L 1.0 110 L -1.0 110 L -13.0 210 Z\", \"type\": \"path\"}, {\"fillcolor\": \"rgb(182,231,235)\", \"line\": {\"color\": \"rgb(182,231,235)\", \"width\": 1}, \"path\": \"M 1.0 100 L 1.0 0 L -1.0 0 L -1.0 100 Z\", \"type\": \"path\"}], \"showlegend\": true, \"title\": \"Funnel Chart\", \"width\": 800, \"xaxis\": {\"showticklabels\": false, \"zeroline\": false}, \"yaxis\": {\"showticklabels\": false, \"zeroline\": false}}, {\"showLink\": true, \"linkText\": \"Export to plot.ly\"})});</script>"
      ],
      "text/vnd.plotly.v1+html": [
       "<div id=\"c42afb71-9aab-4e0f-9187-0288e2ce599e\" style=\"height: 560px; width: 800px;\" class=\"plotly-graph-div\"></div><script type=\"text/javascript\">require([\"plotly\"], function(Plotly) { window.PLOTLYENV=window.PLOTLYENV || {};window.PLOTLYENV.BASE_URL=\"https://plot.ly\";Plotly.newPlot(\"c42afb71-9aab-4e0f-9187-0288e2ce599e\", [{\"mode\": \"text\", \"text\": [\"home_page\", \"search_page\", \"payment_page\", \"payment_confirmation_page\"], \"textfont\": {\"color\": \"rgb(200,200,200)\", \"size\": 15}, \"x\": [-350, -350, -350, -350], \"y\": [380.0, 270.0, 160.0, 50.0], \"type\": \"scatter\", \"uid\": \"36b513fc-dc97-11e8-a42e-fa00142ac801\"}, {\"mode\": \"text\", \"text\": [\"90400\", \"45200\", \"6030\", \"452\"], \"textfont\": {\"color\": \"rgb(200,200,200)\", \"size\": 15}, \"x\": [350, 350, 350, 350], \"y\": [380.0, 270.0, 160.0, 50.0], \"type\": \"scatter\", \"uid\": \"36b51532-dc97-11e8-a42e-fa00142ac801\"}], {\"height\": 560, \"paper_bgcolor\": \"rgba(44,58,71,1)\", \"plot_bgcolor\": \"rgba(44,58,71,1)\", \"shapes\": [{\"fillcolor\": \"rgb(32,155,160)\", \"line\": {\"color\": \"rgb(32,155,160)\", \"width\": 1}, \"path\": \"M 200.0 430 L 100.0 330 L -100.0 330 L -200.0 430 Z\", \"type\": \"path\"}, {\"fillcolor\": \"rgb(253,93,124)\", \"line\": {\"color\": \"rgb(253,93,124)\", \"width\": 1}, \"path\": \"M 100.0 320 L 13.0 220 L -13.0 220 L -100.0 320 Z\", \"type\": \"path\"}, {\"fillcolor\": \"rgb(28,119,139)\", \"line\": {\"color\": \"rgb(28,119,139)\", \"width\": 1}, \"path\": \"M 13.0 210 L 1.0 110 L -1.0 110 L -13.0 210 Z\", \"type\": \"path\"}, {\"fillcolor\": \"rgb(182,231,235)\", \"line\": {\"color\": \"rgb(182,231,235)\", \"width\": 1}, \"path\": \"M 1.0 100 L 1.0 0 L -1.0 0 L -1.0 100 Z\", \"type\": \"path\"}], \"showlegend\": true, \"title\": \"Funnel Chart\", \"width\": 800, \"xaxis\": {\"showticklabels\": false, \"zeroline\": false}, \"yaxis\": {\"showticklabels\": false, \"zeroline\": false}}, {\"showLink\": true, \"linkText\": \"Export to plot.ly\"})});</script>"
      ]
     },
     "metadata": {},
     "output_type": "display_data"
    }
   ],
   "source": [
    "data = [label_trace, value_trace]\n",
    " \n",
    "layout = go.Layout(\n",
    "    title='Funnel Chart',\n",
    "    shapes=shapes,\n",
    "    height=560,\n",
    "    width=800,\n",
    "    showlegend=True,\n",
    "    paper_bgcolor='rgba(44,58,71,1)',\n",
    "    plot_bgcolor='rgba(44,58,71,1)',\n",
    "    xaxis=dict(\n",
    "        showticklabels=False,\n",
    "        zeroline=False,\n",
    "    ),\n",
    "    yaxis=dict(\n",
    "        showticklabels=False,\n",
    "        zeroline=False\n",
    "    )\n",
    ")\n",
    " \n",
    "fig = go.Figure(data=data, layout=layout)\n",
    "iplot(fig)"
   ]
  },
  {
   "cell_type": "code",
   "execution_count": null,
   "metadata": {},
   "outputs": [],
   "source": []
  }
 ],
 "metadata": {
  "kernelspec": {
   "display_name": "Python 3",
   "language": "python",
   "name": "python3"
  },
  "language_info": {
   "codemirror_mode": {
    "name": "ipython",
    "version": 3
   },
   "file_extension": ".py",
   "mimetype": "text/x-python",
   "name": "python",
   "nbconvert_exporter": "python",
   "pygments_lexer": "ipython3",
   "version": "3.7.0"
  }
 },
 "nbformat": 4,
 "nbformat_minor": 2
}
