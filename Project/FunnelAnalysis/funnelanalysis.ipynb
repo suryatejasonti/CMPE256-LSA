{
 "cells": [
  {
   "cell_type": "code",
   "execution_count": 2,
   "metadata": {},
   "outputs": [],
   "source": [
    "import pandas as pd\n",
    "\n",
    "df_home = pd.read_csv('./data/home_page_table.csv')\n",
    "df_payment_confirm = pd.read_csv('./data/payment_confirmation_table.csv')\n",
    "df_payment_page = pd.read_csv('./data/payment_page_table.csv')\n",
    "df_search = pd.read_csv('./data/search_page_table.csv')\n",
    "df_user_data = pd.read_csv('./data/user_table.csv')\n"
   ]
  },
  {
   "cell_type": "code",
   "execution_count": 61,
   "metadata": {},
   "outputs": [
    {
     "name": "stdout",
     "output_type": "stream",
     "text": [
      "   user_id     page_x page_y page_x       page_y        date   device     sex\n",
      "0   313593  home_page    NaN    NaN          NaN  2015-02-26  Desktop  Female\n",
      "1   468315  home_page    NaN    NaN          NaN  2015-02-21  Desktop    Male\n",
      "2   264005  home_page    NaN    NaN          NaN  2015-03-25  Desktop  Female\n",
      "3   290784  home_page    NaN    NaN          NaN  2015-03-14  Desktop    Male\n",
      "4   639104  home_page    NaN    NaN  search_page  2015-01-03  Desktop  Female\n",
      "5   262889  home_page    NaN    NaN          NaN  2015-01-10   Mobile    Male\n",
      "6   708793  home_page    NaN    NaN          NaN  2015-04-24   Mobile  Female\n",
      "7   943143  home_page    NaN    NaN  search_page  2015-04-10  Desktop    Male\n",
      "8   417894  home_page    NaN    NaN          NaN  2015-04-02   Mobile  Female\n",
      "9   729374  home_page    NaN    NaN  search_page  2015-04-12  Desktop    Male\n",
      "        user_id        date   device     sex         page\n",
      "0        313593  2015-02-26  Desktop  Female    home_page\n",
      "1        468315  2015-02-21  Desktop    Male    home_page\n",
      "2        264005  2015-03-25  Desktop  Female    home_page\n",
      "3        290784  2015-03-14  Desktop    Male    home_page\n",
      "4        639104  2015-01-03  Desktop  Female    home_page\n",
      "5        262889  2015-01-10   Mobile    Male    home_page\n",
      "6        708793  2015-04-24   Mobile  Female    home_page\n",
      "7        943143  2015-04-10  Desktop    Male    home_page\n",
      "8        417894  2015-04-02   Mobile  Female    home_page\n",
      "9        729374  2015-04-12  Desktop    Male    home_page\n",
      "10       188061  2015-03-28   Mobile  Female    home_page\n",
      "11       899940  2015-01-10  Desktop    Male    home_page\n",
      "12       351103  2015-04-30   Mobile    Male    home_page\n",
      "13       361882  2015-03-04   Mobile    Male    home_page\n",
      "14       899516  2015-04-20  Desktop    Male    home_page\n",
      "15        99215  2015-02-04   Mobile  Female    home_page\n",
      "16       594691  2015-03-31  Desktop    Male    home_page\n",
      "17       432943  2015-01-22   Mobile    Male    home_page\n",
      "18       364893  2015-04-27   Mobile    Male    home_page\n",
      "19       654707  2015-01-23  Desktop    Male    home_page\n",
      "20       272192  2015-02-03   Mobile  Female    home_page\n",
      "21       396024  2015-03-24  Desktop    Male    home_page\n",
      "22       369723  2015-02-24  Desktop    Male    home_page\n",
      "23       438763  2015-01-07  Desktop    Male    home_page\n",
      "24       223223  2015-02-23  Desktop  Female    home_page\n",
      "25       140078  2015-04-27   Mobile  Female    home_page\n",
      "26        96742  2015-04-05  Desktop    Male    home_page\n",
      "27        74432  2015-02-17  Desktop    Male    home_page\n",
      "28       819741  2015-04-14  Desktop  Female    home_page\n",
      "29       664153  2015-03-02  Desktop    Male    home_page\n",
      "...         ...         ...      ...     ...          ...\n",
      "361570   316590  2015-03-14   Mobile    Male  search_page\n",
      "361571   605332  2015-03-24  Desktop  Female          NaN\n",
      "361572   787726  2015-04-15   Mobile  Female          NaN\n",
      "361573   154945  2015-01-03  Desktop    Male          NaN\n",
      "361574   442757  2015-04-20   Mobile    Male          NaN\n",
      "361575    24523  2015-02-18  Desktop    Male          NaN\n",
      "361576    93920  2015-03-12  Desktop    Male  search_page\n",
      "361577   778498  2015-03-10   Mobile  Female          NaN\n",
      "361578   990390  2015-01-12  Desktop    Male          NaN\n",
      "361579   577786  2015-04-21  Desktop    Male          NaN\n",
      "361580   336714  2015-01-04   Mobile    Male  search_page\n",
      "361581   869523  2015-03-16  Desktop  Female          NaN\n",
      "361582   952004  2015-02-19   Mobile    Male  search_page\n",
      "361583   907572  2015-04-13  Desktop    Male  search_page\n",
      "361584   527712  2015-04-14   Mobile  Female          NaN\n",
      "361585    88921  2015-03-14  Desktop  Female  search_page\n",
      "361586   836673  2015-02-06   Mobile  Female  search_page\n",
      "361587   898306  2015-01-02  Desktop  Female  search_page\n",
      "361588   529322  2015-02-21   Mobile    Male          NaN\n",
      "361589   608818  2015-02-05  Desktop  Female  search_page\n",
      "361590   845758  2015-02-15  Desktop    Male  search_page\n",
      "361591   272782  2015-01-23   Mobile  Female  search_page\n",
      "361592   815516  2015-04-05  Desktop  Female  search_page\n",
      "361593   582615  2015-01-16  Desktop  Female          NaN\n",
      "361594   166121  2015-01-05  Desktop    Male  search_page\n",
      "361595   456851  2015-03-16   Mobile    Male          NaN\n",
      "361596   128619  2015-04-16  Desktop    Male  search_page\n",
      "361597   167290  2015-03-29  Desktop  Female          NaN\n",
      "361598   437765  2015-04-27  Desktop    Male          NaN\n",
      "361599   337840  2015-02-07  Desktop    Male          NaN\n",
      "\n",
      "[361600 rows x 5 columns]\n"
     ]
    }
   ],
   "source": [
    "from functools import reduce; \n",
    "\n",
    "def mergedf(df_list, on_col, how_join):\n",
    "    df = reduce(lambda left,right: pd.merge(left, right, on=on_col, how=how_join), df_list)\n",
    "    return df\n",
    "\n",
    "df = mergedf([df_home, df_payment_confirm, df_payment_page, df_search, df_user_data], 'user_id', 'outer')\n",
    "print(df.head(10))\n",
    "df = pd.melt(df, id_vars=['user_id', 'date', 'device', 'sex'], value_name='page').drop(['variable'],axis=1)\n",
    "print(df)"
   ]
  },
  {
   "cell_type": "code",
   "execution_count": 65,
   "metadata": {},
   "outputs": [
    {
     "data": {
      "text/html": [
       "<div>\n",
       "<style scoped>\n",
       "    .dataframe tbody tr th:only-of-type {\n",
       "        vertical-align: middle;\n",
       "    }\n",
       "\n",
       "    .dataframe tbody tr th {\n",
       "        vertical-align: top;\n",
       "    }\n",
       "\n",
       "    .dataframe thead th {\n",
       "        text-align: right;\n",
       "    }\n",
       "</style>\n",
       "<table border=\"1\" class=\"dataframe\">\n",
       "  <thead>\n",
       "    <tr style=\"text-align: right;\">\n",
       "      <th></th>\n",
       "      <th>home_page</th>\n",
       "      <th>search_page</th>\n",
       "      <th>payment_page</th>\n",
       "      <th>payment_confirmation_page</th>\n",
       "    </tr>\n",
       "    <tr>\n",
       "      <th>user_id</th>\n",
       "      <th></th>\n",
       "      <th></th>\n",
       "      <th></th>\n",
       "      <th></th>\n",
       "    </tr>\n",
       "  </thead>\n",
       "  <tbody>\n",
       "    <tr>\n",
       "      <th>17</th>\n",
       "      <td>1</td>\n",
       "      <td>1</td>\n",
       "      <td>0</td>\n",
       "      <td>0</td>\n",
       "    </tr>\n",
       "    <tr>\n",
       "      <th>28</th>\n",
       "      <td>1</td>\n",
       "      <td>0</td>\n",
       "      <td>0</td>\n",
       "      <td>0</td>\n",
       "    </tr>\n",
       "    <tr>\n",
       "      <th>37</th>\n",
       "      <td>1</td>\n",
       "      <td>1</td>\n",
       "      <td>0</td>\n",
       "      <td>0</td>\n",
       "    </tr>\n",
       "    <tr>\n",
       "      <th>38</th>\n",
       "      <td>1</td>\n",
       "      <td>1</td>\n",
       "      <td>0</td>\n",
       "      <td>0</td>\n",
       "    </tr>\n",
       "    <tr>\n",
       "      <th>55</th>\n",
       "      <td>1</td>\n",
       "      <td>0</td>\n",
       "      <td>0</td>\n",
       "      <td>0</td>\n",
       "    </tr>\n",
       "  </tbody>\n",
       "</table>\n",
       "</div>"
      ],
      "text/plain": [
       "         home_page  search_page  payment_page  payment_confirmation_page\n",
       "user_id                                                                 \n",
       "17               1            1             0                          0\n",
       "28               1            0             0                          0\n",
       "37               1            1             0                          0\n",
       "38               1            1             0                          0\n",
       "55               1            0             0                          0"
      ]
     },
     "execution_count": 65,
     "metadata": {},
     "output_type": "execute_result"
    }
   ],
   "source": [
    "GROUP_KEY = 'user_id'\n",
    "TIME_FIELD = 'date'\n",
    "EVENT_FIELD = 'page'\n",
    "FUNNEL_STEPS = ['home_page', 'search_page', 'payment_page', 'payment_confirmation_page']\n",
    "\n",
    "\n",
    "def funnelize(group, funnel_steps):\n",
    "    curr = 0\n",
    "    funnel_cts = [0 for s in funnel_steps]\n",
    "\n",
    "    for i, row in group.iterrows():\n",
    "        evt = row[EVENT_FIELD]\n",
    "        if evt in funnel_steps:\n",
    "            idx = funnel_steps.index(evt)\n",
    "            if idx <= curr + 1:\n",
    "                funnel_cts[idx] += 1\n",
    "                curr = idx\n",
    "        \n",
    "    return funnel_cts\n",
    "\n",
    "\n",
    "# sort event dataset by time\n",
    "df.sort_values(by=GROUP_KEY, ascending=True, inplace=True)\n",
    "\n",
    "# step through events by group_key (i.e., browser, visit), \n",
    "# and increment event counts by funnel step if prior funnel steps occurred\n",
    "funnel_cts = df.groupby(GROUP_KEY).apply(funnelize, FUNNEL_STEPS)\n",
    "\n",
    "# format results as a dataframe\n",
    "funnel = pd.DataFrame(list(funnel_cts.values), index=funnel_cts.index, columns=FUNNEL_STEPS)\n",
    "\n",
    "funnel.head()"
   ]
  },
  {
   "cell_type": "code",
   "execution_count": 66,
   "metadata": {},
   "outputs": [
    {
     "name": "stdout",
     "output_type": "stream",
     "text": [
      "home_page                    90400\n",
      "search_page                  45200\n",
      "payment_page                  2082\n",
      "payment_confirmation_page       46\n",
      "dtype: int64\n"
     ]
    }
   ],
   "source": [
    "# funnel summary (aggregate)\n",
    "\n",
    "print (funnel[FUNNEL_STEPS].sum())"
   ]
  },
  {
   "cell_type": "code",
   "execution_count": 67,
   "metadata": {},
   "outputs": [
    {
     "name": "stdout",
     "output_type": "stream",
     "text": [
      "home_page                    90400\n",
      "search_page                  45200\n",
      "payment_page                  2082\n",
      "payment_confirmation_page       46\n",
      "dtype: int64\n"
     ]
    }
   ],
   "source": [
    "# funnel summary, deduped across group key \n",
    "# (i.e., event occurrences become 1/0 indicators instead of counts)\n",
    "\n",
    "funnel_norm = funnel.copy()\n",
    "funnel_norm[funnel_norm != 0] = 1\n",
    "print (funnel_norm[FUNNEL_STEPS].sum())"
   ]
  },
  {
   "cell_type": "code",
   "execution_count": 68,
   "metadata": {},
   "outputs": [],
   "source": [
    "import plotly as py\n",
    "import plotly.graph_objs as go\n",
    " \n",
    "from __future__ import division"
   ]
  },
  {
   "cell_type": "code",
   "execution_count": null,
   "metadata": {},
   "outputs": [],
   "source": []
  }
 ],
 "metadata": {
  "kernelspec": {
   "display_name": "Python 3",
   "language": "python",
   "name": "python3"
  },
  "language_info": {
   "codemirror_mode": {
    "name": "ipython",
    "version": 3
   },
   "file_extension": ".py",
   "mimetype": "text/x-python",
   "name": "python",
   "nbconvert_exporter": "python",
   "pygments_lexer": "ipython3",
   "version": "3.7.0"
  }
 },
 "nbformat": 4,
 "nbformat_minor": 2
}
